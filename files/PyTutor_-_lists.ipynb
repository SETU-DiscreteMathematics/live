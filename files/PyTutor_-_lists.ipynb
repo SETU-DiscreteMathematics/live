{
  "cells": [
    {
      "cell_type": "markdown",
      "metadata": {
        "id": "Uczfz0Qtxi-Z"
      },
      "source": [
        "# PyTutor &mdash; lists"
      ]
    },
    {
      "cell_type": "code",
      "execution_count": null,
      "metadata": {
        "id": "z5o6IgFCxi-e"
      },
      "outputs": [],
      "source": [
        "# Setup magic, do not edit this cell! Just press Shift+Enter or click on arrow at top-left\n",
        "\n",
        "import urllib.request\n",
        "content = urllib.request.urlretrieve (\"https://setu-discretemathematics.github.io/live/files/setup_practical_magic.py\")\n",
        "exec(open(content[0]).read())\n",
        "setup_practical(locals(), _ih, 0)"
      ]
    },
    {
      "cell_type": "code",
      "execution_count": null,
      "metadata": {
        "id": "MhSSMYr0xi-h"
      },
      "outputs": [],
      "source": [
        		"z = []  # creating a empty list\n",
		"\n",
		"# defining lists by stating values\n",
		"a = [1,3,1,2,1,5,4]\n",
		"b = [1,3]\n",
		"\n",
		"print(len(a)) # size of list\n",
		"\n",
		"c = a + b # appending lists\n",
		"print(c)\n",
		"\n",
		"value = c[2] # list indexing ZERO-BASED\n",
		"print(value)\n",
		"\n",
		"d = c[2:5] # slicing SEMI-OPEN notation\n",
		"print(d)\n",
		"\n",
		"value = c[-4] # negative indexing\n",
		"print(value)"
      ]
    },
    {
      "cell_type": "code",
      "execution_count": null,
      "metadata": {
        "id": "ltrhtjGMxi-i"
      },
      "outputs": [],
      "source": [
        "pytutor()"
      ]
    }
  ],
  "metadata": {
    "kernelspec": {
      "display_name": "Python 3",
      "language": "python",
      "name": "python3"
    },
    "language_info": {
      "codemirror_mode": {
        "name": "ipython",
        "version": 3
      },
      "file_extension": ".py",
      "mimetype": "text/x-python",
      "name": "python",
      "nbconvert_exporter": "python",
      "pygments_lexer": "ipython3",
      "version": "3.9.10"
    },
    "orig_nbformat": 4,
    "colab": {
      "provenance": []
    }
  },
  "nbformat": 4,
  "nbformat_minor": 0
}