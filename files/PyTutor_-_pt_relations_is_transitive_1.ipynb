{
  "cells": [
    {
      "cell_type": "markdown",
      "metadata": {
        "id": "Uczfz0Qtxi-Z"
      },
      "source": [
        "# PyTutor &mdash; pt_relations_is_transitive_1"
      ]
    },
    {
      "cell_type": "code",
      "execution_count": null,
      "metadata": {
        "id": "z5o6IgFCxi-e"
      },
      "outputs": [],
      "source": [
        "# Setup magic, do not edit this cell! Just press Shift+Enter or click on arrow at top-left\n",
        "\n",
        "import urllib.request\n",
        "content = urllib.request.urlretrieve (\"https://setu-discretemathematics.github.io/live/files/setup_practical_magic.py\")\n",
        "exec(open(content[0]).read())\n",
        "setup_practical(locals(), _ih, 0)"
      ]
    },
    {
      "cell_type": "code",
      "execution_count": null,
      "metadata": {
        "id": "MhSSMYr0xi-h"
      },
      "outputs": [],
      "source": [
        		"def is_transitive(R):\n",
		"\n",
		"    for (a,b) in R:\n",
		"        for (c,d) in R:\n",
		"            if b==c and (a,d) not in R:\n",
		"                return False\n",
		"\n",
		"    return True\n",
		"\n",
		"\n",
		"R = {(2,2),(2,3),(3,2),(3,3)}\n",
		"print(is_transitive(R))\n",
		"\n",
		"R = {(2,2),(2,3),(3,4)}\n",
		"print(not is_transitive(R))"
      ]
    },
    {
      "cell_type": "code",
      "execution_count": null,
      "metadata": {
        "id": "ltrhtjGMxi-i"
      },
      "outputs": [],
      "source": [
        "pytutor()"
      ]
    }
  ],
  "metadata": {
    "kernelspec": {
      "display_name": "Python 3",
      "language": "python",
      "name": "python3"
    },
    "language_info": {
      "codemirror_mode": {
        "name": "ipython",
        "version": 3
      },
      "file_extension": ".py",
      "mimetype": "text/x-python",
      "name": "python",
      "nbconvert_exporter": "python",
      "pygments_lexer": "ipython3",
      "version": "3.9.10"
    },
    "orig_nbformat": 4,
    "colab": {
      "provenance": []
    }
  },
  "nbformat": 4,
  "nbformat_minor": 0
}