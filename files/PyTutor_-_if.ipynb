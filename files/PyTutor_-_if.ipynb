{
  "cells": [
    {
      "cell_type": "markdown",
      "metadata": {
        "id": "Uczfz0Qtxi-Z"
      },
      "source": [
        "# PyTutor &mdash; if"
      ]
    },
    {
      "cell_type": "code",
      "execution_count": null,
      "metadata": {
        "id": "z5o6IgFCxi-e"
      },
      "outputs": [],
      "source": [
        "# Setup magic, do not edit this cell! Just press Shift+Enter or click on arrow at top-left\n",
        "\n",
        "import urllib.request\n",
        "content = urllib.request.urlretrieve (\"https://setu-discretemathematics.github.io/live/files/setup_practical_magic.py\")\n",
        "exec(open(content[0]).read())\n",
        "setup_practical(locals(), _ih, 0)"
      ]
    },
    {
      "cell_type": "code",
      "execution_count": null,
      "metadata": {
        "id": "MhSSMYr0xi-h"
      },
      "outputs": [],
      "source": [
        		"# In the drinking game of fuzz-buzz players count in turn\n",
		"# but replace multiples of 3 with 'fuzz',\n",
		"# multiples of 5 with 'buzz',\n",
		"# and multiples of 15 with 'fuzz buzz'\n",
		"\n",
		"for k in range(1,21):\n",
		"    if k%15==0:   # is k a multiple of 15?\n",
		"        print(\"fuzz buzz\")\n",
		"    elif k%3==0:  # is k a multiple of 3?\n",
		"        print(\"fuzz\")\n",
		"    elif k%5==0:  # is k a multiple of 5?\n",
		"        print(\"buzz\")\n",
		"    else:\n",
		"        print(k)"
      ]
    },
    {
      "cell_type": "code",
      "execution_count": null,
      "metadata": {
        "id": "ltrhtjGMxi-i"
      },
      "outputs": [],
      "source": [
        "pytutor()"
      ]
    }
  ],
  "metadata": {
    "kernelspec": {
      "display_name": "Python 3",
      "language": "python",
      "name": "python3"
    },
    "language_info": {
      "codemirror_mode": {
        "name": "ipython",
        "version": 3
      },
      "file_extension": ".py",
      "mimetype": "text/x-python",
      "name": "python",
      "nbconvert_exporter": "python",
      "pygments_lexer": "ipython3",
      "version": "3.9.10"
    },
    "orig_nbformat": 4,
    "colab": {
      "provenance": []
    }
  },
  "nbformat": 4,
  "nbformat_minor": 0
}