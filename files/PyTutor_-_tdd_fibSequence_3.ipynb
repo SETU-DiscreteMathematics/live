{
  "cells": [
    {
      "cell_type": "markdown",
      "metadata": {
        "id": "Uczfz0Qtxi-Z"
      },
      "source": [
        "# PyTutor &mdash; tdd_fibSequence_3"
      ]
    },
    {
      "cell_type": "code",
      "execution_count": null,
      "metadata": {
        "id": "z5o6IgFCxi-e"
      },
      "outputs": [],
      "source": [
        "# Setup magic, do not edit this cell! Just press Shift+Enter or click on arrow at top-left\n",
        "\n",
        "import urllib.request\n",
        "content = urllib.request.urlretrieve (\"https://setu-discretemathematics.github.io/live/files/setup_practical_magic.py\")\n",
        "exec(open(content[0]).read())\n",
        "setup_practical(locals(), _ih, 0)"
      ]
    },
    {
      "cell_type": "code",
      "execution_count": null,
      "metadata": {
        "id": "MhSSMYr0xi-h"
      },
      "outputs": [],
      "source": [
        		"import math\n",
		"\n",
		"def fib(n):\n",
		"\n",
		"    assert type(n)==int and n>=0, f\"Parameter {n=} should be a nonnegative integer.\"\n",
		"\n",
		"    tmp_1 = (1 + math.sqrt(5)) / 2\n",
		"    tmp_2 = (1 - math.sqrt(5)) / 2\n",
		"\n",
		"    return int( (tmp_1**n - tmp_2**n) / math.sqrt(5) )\n",
		"\n",
		"\n",
		"def fibSequence(start,end):\n",
		"\n",
		"    assert type(start)==int and start>=0, f\"Parameter {start=} should be a nonnegative integer.\"\n",
		"    assert type(end)==int and start<=end, f\"Parameter {end=} should be an integer and not smaller than {start=}.\"\n",
		"\n",
		"    return [fib(n) for n in range(start,end)]\n",
		"\n",
		"\n",
		"for start,end,expected in [ (0,0,[]), (0,1,[0]), (0,2,[0,1]), (6,10,[8,13,21,34])]:\n",
		"    output = fibSequence(start,end)\n",
		"    correct = output==expected\n",
		"    print(f\"{start=}\t {end=}\t {output=}\t {expected=}\t {correct=}\")"
      ]
    },
    {
      "cell_type": "code",
      "execution_count": null,
      "metadata": {
        "id": "ltrhtjGMxi-i"
      },
      "outputs": [],
      "source": [
        "pytutor()"
      ]
    }
  ],
  "metadata": {
    "kernelspec": {
      "display_name": "Python 3",
      "language": "python",
      "name": "python3"
    },
    "language_info": {
      "codemirror_mode": {
        "name": "ipython",
        "version": 3
      },
      "file_extension": ".py",
      "mimetype": "text/x-python",
      "name": "python",
      "nbconvert_exporter": "python",
      "pygments_lexer": "ipython3",
      "version": "3.9.10"
    },
    "orig_nbformat": 4,
    "colab": {
      "provenance": []
    }
  },
  "nbformat": 4,
  "nbformat_minor": 0
}