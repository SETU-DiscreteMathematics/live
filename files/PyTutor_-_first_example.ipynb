{
  "cells": [
    {
      "cell_type": "markdown",
      "metadata": {
        "id": "ligRD3HyxkQK"
      },
      "source": [
        "# PyTutor &mdash; first_example"
      ]
    },
    {
      "cell_type": "code",
      "execution_count": null,
      "metadata": {
        "id": "pDGV1EtqxkQN"
      },
      "outputs": [],
      "source": [
        "# Setup magic, do not edit this cell! Just press Shift+Enter or click on arrow at top-left\n",
        "\n",
        "import urllib.request\n",
        "content = urllib.request.urlretrieve (\"https://setu-discretemathematics.github.io/live/files/setup_practical_magic.py\")\n",
        "exec(open(content[0]).read())\n",
        "setup_practical(locals(), _ih, 0)"
      ]
    },
    {
      "cell_type": "code",
      "execution_count": null,
      "metadata": {
        "id": "FBWNld4LxkQP"
      },
      "outputs": [],
      "source": [
        "pytutor(\"\"\"\n",
				"powers = [0,1,2,3,4,5,6]\n",
		"for p in powers:\n",
		"  print(p, 2**p)\n",
        "\"\"\")"
      ]
    }
  ],
  "metadata": {
    "kernelspec": {
      "display_name": "Python 3",
      "language": "python",
      "name": "python3"
    },
    "language_info": {
      "codemirror_mode": {
        "name": "ipython",
        "version": 3
      },
      "file_extension": ".py",
      "mimetype": "text/x-python",
      "name": "python",
      "nbconvert_exporter": "python",
      "pygments_lexer": "ipython3",
      "version": "3.9.10"
    },
    "orig_nbformat": 4,
    "colab": {
      "provenance": []
    }
  },
  "nbformat": 4,
  "nbformat_minor": 0
}