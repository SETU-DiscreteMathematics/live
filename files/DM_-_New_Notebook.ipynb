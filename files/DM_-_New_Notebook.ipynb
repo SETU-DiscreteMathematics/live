{
 "cells": [
  {
   "cell_type": "code",
   "execution_count": null,
   "metadata": {},
   "outputs": [],
   "source": [
    "# Setup magic, do not edit this cell! Just press Shift+Enter or click on arrow at top-left\n",
    "\n",
    "import urllib.request\n",
    "content = urllib.request.urlretrieve (\"https://setu-discretemathematics.github.io/live/files/setup_practical_magic.py\")\n",
    "exec(open(content[0]).read())\n",
    "setup_practical(locals(),_ih,0)"
   ]
  }
 ],
 "metadata": {
  "language_info": {
   "name": "python"
  },
  "orig_nbformat": 4
 },
 "nbformat": 4,
 "nbformat_minor": 2
}
