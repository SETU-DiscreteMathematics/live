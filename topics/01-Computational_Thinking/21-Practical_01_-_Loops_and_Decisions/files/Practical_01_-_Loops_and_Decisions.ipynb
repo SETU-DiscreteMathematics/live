{
 "cells": [
  {
   "cell_type": "markdown",
   "metadata": {
    "id": "Dajafvz5obcM",
    "label": "title"
   },
   "source": [
    "# Practical 01 - Loops and Decisions"
   ]
  },
  {
   "cell_type": "markdown",
   "metadata": {
    "id": "dGUHvpDUobcN",
    "label": "setup"
   },
   "source": [
    "## Setup"
   ]
  },
  {
   "cell_type": "code",
   "execution_count": null,
   "metadata": {
    "cellView": "form",
    "execution": {
     "iopub.execute_input": "2020-12-03T00:44:42.767299Z",
     "iopub.status.busy": "2020-12-03T00:44:42.766557Z",
     "iopub.status.idle": "2020-12-03T00:44:42.770348Z",
     "shell.execute_reply": "2020-12-03T00:44:42.769416Z"
    },
    "id": "CXsnfskuobcN",
    "label": "bio"
   },
   "outputs": [],
   "source": [
    "#@markdown **Please enter your following details and press Shift-Enter to save:**\n",
    "your_student_number = '' #@param {type: \"string\"}\n",
    "your_name = '' #@param {type: \"string\"}"
   ]
  },
  {
   "cell_type": "code",
   "execution_count": null,
   "metadata": {
    "execution": {
     "iopub.execute_input": "2020-12-03T00:44:42.779190Z",
     "iopub.status.busy": "2020-12-03T00:44:42.776937Z",
     "iopub.status.idle": "2020-12-03T00:44:46.637905Z",
     "shell.execute_reply": "2020-12-03T00:44:46.638342Z"
    },
    "id": "gI-1sOMPobcN",
    "label": "setup"
   },
   "outputs": [],
   "source": [
    "# Setup magic, do not edit this cell! Just press Shift+Enter or click on arrow at top-left\n",
    "\n",
    "import urllib.request\n",
    "content = urllib.request.urlretrieve (\"https://setu-discretemathematics.github.io/live/files/setup_practical_magic.py\")\n",
    "exec(open(content[0]).read())\n",
    "setup_practical(locals(),_ih)"
   ]
  },
  {
   "cell_type": "markdown",
   "metadata": {
    "id": "gIumxI6cobcN",
    "label": "Introduction"
   },
   "source": [
    "---\n",
    "## Introduction\n",
    "\n",
    "In this practical we will (or more accurately you will) solve a number of small tasks using python loop (`for` and `while`) and decision (`if-elif-else`) statements."
   ]
  },
  {
   "cell_type": "markdown",
   "metadata": {},
   "source": [
    "## Questions \n",
    "\n",
    "The tasks are based on material we covered in [Fundamentals of Computation (Slides)](https://setu-discretemathematics.github.io/live/topics/01-Computational_Thinking/01-Fundamentals_of_Computation/01-01-Fundamentals_of_Computation-Slides-Presentation.pdf)\n",
    "\n"
   ]
  },
  {
   "cell_type": "markdown",
   "metadata": {
    "id": "t1PZ9jnUobcO"
   },
   "source": [
    "### Question 1\n",
    "\n",
    "Write a Python `for` loop to print out the integers from zero (inclusive) to 5 (exclusive).\n",
    "\n",
    "Hint: Use `range` to create the collection for loop over. And `print` to output the data (loop counter) value."
   ]
  },
  {
   "cell_type": "code",
   "execution_count": null,
   "metadata": {
    "execution": {
     "iopub.execute_input": "2020-12-03T00:44:46.644579Z",
     "iopub.status.busy": "2020-12-03T00:44:46.643958Z",
     "iopub.status.idle": "2020-12-03T00:44:46.647816Z",
     "shell.execute_reply": "2020-12-03T00:44:46.646967Z"
    },
    "id": "atuZEJKEobcO",
    "label": "Q0",
    "tags": [
     "Q1"
    ]
   },
   "outputs": [],
   "source": [
    "# Question 1\n"
   ]
  },
  {
   "cell_type": "markdown",
   "metadata": {},
   "source": [
    "### Question 2\n",
    "\n",
    "Write a Python `while` loop to print out the integers from zero (inclusive) to five (exclusive).\n",
    "\n",
    "Note: We normally would NOT use `while` for this problem because we know how many times the loop runs is wanted so would use a `for` loop instead."
   ]
  },
  {
   "cell_type": "code",
   "execution_count": null,
   "metadata": {
    "tags": [
     "Q2"
    ]
   },
   "outputs": [],
   "source": [
    "# Question 2\n"
   ]
  },
  {
   "cell_type": "markdown",
   "metadata": {},
   "source": [
    "### Question 3\n",
    "\n",
    "Write a Python `for` loop over the integers from zero (inclusive) to 10 (exclusive) and output the integer and its remainder when divided by three.\n",
    "\n",
    "Note: `x % 3` is the remainder when `x` is divided by `3`. "
   ]
  },
  {
   "cell_type": "code",
   "execution_count": null,
   "metadata": {
    "tags": [
     "Q3"
    ]
   },
   "outputs": [],
   "source": [
    "# Question 3\n"
   ]
  },
  {
   "cell_type": "markdown",
   "metadata": {},
   "source": [
    "### Question 4\n",
    "\n",
    "Write a Python `for` loop to print out the integers from zero (inclusive) to 20 (exclusive), that are multiples of 3.\n",
    "\n",
    "Note: There are two solutions to this. a) You can use the `STEP` parameter in `range` or b) you can use an `if` statement and the fact that `x % 3==0` is `True` when identifier `x` stores an integer that is a multiple of 3. "
   ]
  },
  {
   "cell_type": "code",
   "execution_count": null,
   "metadata": {
    "tags": [
     "Q4a"
    ]
   },
   "outputs": [],
   "source": [
    "# Question 4a (using range only)\n"
   ]
  },
  {
   "cell_type": "code",
   "execution_count": null,
   "metadata": {
    "tags": [
     "Q4b"
    ]
   },
   "outputs": [],
   "source": [
    "# Question 4b (using range and if)\n"
   ]
  },
  {
   "cell_type": "markdown",
   "metadata": {},
   "source": [
    "### Question 5\n",
    "\n",
    "Given the list\n",
    "```python\n",
    "data = [1,5,7,3,7,9,6,2]\n",
    "```\n",
    "write a Python `for` loop that counts the number of odd integers in the list.\n",
    "\n",
    "Hint: Remember `x%2` returns the remainder when `x` is divided by `2`. So `x%2==1` when `x` stores an odd integer, and `x%2==0` when `x` stores an even integer."
   ]
  },
  {
   "cell_type": "code",
   "execution_count": null,
   "metadata": {
    "tags": [
     "Q5"
    ]
   },
   "outputs": [],
   "source": [
    "# Question 6\n",
    "data = [1,5,7,3,7,9,6,2]\n"
   ]
  },
  {
   "cell_type": "markdown",
   "metadata": {},
   "source": [
    "### Question 6\n",
    "\n",
    "Given the list\n",
    "```python\n",
    "data = [1,5,7,3,7,9,6,2]\n",
    "```\n",
    "write a Python `for` loop that calculates the total of the odd integers minus the total of the even integers in the list."
   ]
  },
  {
   "cell_type": "code",
   "execution_count": null,
   "metadata": {
    "tags": [
     "Q6"
    ]
   },
   "outputs": [],
   "source": [
    "# Question 6\n",
    "data = [1,5,7,3,7,9,6,2]\n"
   ]
  },
  {
   "cell_type": "markdown",
   "metadata": {},
   "source": [
    "## Optional Questions\n",
    "\n",
    "The following questions are __optional__. They can all be solved just using loop and decision statements but are more tricky that the above problems and are given here for those of you who have coded in python before and want to try more advanced problems.  \n",
    "\n",
    "But we also suggest you should try problems in \n",
    "\n",
    " * [Project Euler](https://projecteuler.net) \n",
    " * [Codeforces](https://codeforces.com)"
   ]
  },
  {
   "cell_type": "markdown",
   "metadata": {},
   "source": [
    "### Question A\n",
    "\n",
    "Given the list\n",
    "```python\n",
    "data = [1,5,7,3,2,4,7,9,5,2,1,7,9,6,2]\n",
    "```\n",
    "write a Python `for` loop that calculates the length of the longest sub-sequence of decreasing data values. (For example `[7,3,2]` is a sub-sequence of decreasing data values of length 3, but it may not be the longest.\n"
   ]
  },
  {
   "cell_type": "code",
   "execution_count": null,
   "metadata": {
    "tags": [
     "QA"
    ]
   },
   "outputs": [],
   "source": [
    "# Question A\n",
    "data = [1,5,7,3,2,4,7,9,5,2,1,7,9,6,2]\n"
   ]
  },
  {
   "cell_type": "markdown",
   "metadata": {},
   "source": [
    "### Question B\n",
    "\n",
    "Given the integer\n",
    "```python\n",
    "n = 190512000\n",
    "```\n",
    "write a Python loop that outputs all of the prime factors of `n`."
   ]
  },
  {
   "cell_type": "code",
   "execution_count": null,
   "metadata": {
    "tags": [
     "QB"
    ]
   },
   "outputs": [],
   "source": [
    "# Question B\n",
    "n = 190512000\n"
   ]
  },
  {
   "cell_type": "markdown",
   "metadata": {
    "id": "Fupb7zMXobcQ"
   },
   "source": [
    "---\n",
    "## Review/Feedback (P01)"
   ]
  },
  {
   "cell_type": "code",
   "execution_count": null,
   "metadata": {
    "cellView": "form",
    "execution": {
     "iopub.execute_input": "2020-12-03T00:44:46.693886Z",
     "iopub.status.busy": "2020-12-03T00:44:46.693334Z",
     "iopub.status.idle": "2020-12-03T00:44:46.696469Z",
     "shell.execute_reply": "2020-12-03T00:44:46.695820Z"
    },
    "id": "2TW5QrGFobcQ"
   },
   "outputs": [],
   "source": [
    "#@markdown This a a short questionnaire for you to provide feedback on how you think the semester is progressing and in particular for __Discrete Mathematics__, how easy/difficult, interesting/boring, useful/confusing you find the material. By completing the following you will help us improve our delivery.<br />Please enter your feedback and click on arrow at top-left to save. \n",
    "\n",
    "#@markdown **This practical**\n",
    "\n",
    "#@markdown How difficult did you find this practical?\n",
    "practical_difficulty = 'No opinion' #@param ['No opinion', \"Too easy', 'Easy', 'About right', 'Some bits were hard but overall it was doable', 'Too difficult', 'Impossible']\n",
    "\n",
    "#@markdown Including online session time, how long (in minutes) did it take for you to finish this practical?\n",
    "practical_duration = 0 #@param {type: \"number\"}\n",
    "\n",
    "#@markdown **This week's material**\n",
    "\n",
    "#@markdown How difficult did you find each of the following this week?\n",
    "lecture_difficulty = 'No opinion' #@param ['No opinion', \"Too easy', 'Easy', 'About right', 'Some bits were hard but overall it was doable', 'Too difficult', 'Impossible']\n",
    "\n",
    "tutorial_questions_difficulty = 'No opinion' #@param ['No opinion', \"Too easy', 'Easy', 'About right', 'Some bits were hard but overall it was doable', 'Too difficult', 'Impossible']\n",
    "\n",
    "#@markdown Use the line below to enter any comments &mdash; what you liked, what you did not like. Again all feedback is welcome.\n",
    "general_comment = \"\" #@param {type: \"string\"}"
   ]
  }
 ],
 "metadata": {
  "colab": {
   "name": "DM_P01_-_Loops_and_Decisions.ipynb",
   "provenance": []
  },
  "kernelspec": {
   "display_name": "Python 3",
   "language": "python",
   "name": "python3"
  },
  "language_info": {
   "codemirror_mode": {
    "name": "ipython",
    "version": 3
   },
   "file_extension": ".py",
   "mimetype": "text/x-python",
   "name": "python",
   "nbconvert_exporter": "python",
   "pygments_lexer": "ipython3",
   "version": "3.9.10"
  },
  "toc": {
   "toc_cell": false,
   "toc_number_sections": true,
   "toc_threshold": 6,
   "toc_window_display": false
  },
  "toc-autonumbering": false
 },
 "nbformat": 4,
 "nbformat_minor": 4
}
