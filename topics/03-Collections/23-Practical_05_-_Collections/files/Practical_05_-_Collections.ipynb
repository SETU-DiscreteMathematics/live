{
 "cells": [
  {
   "cell_type": "markdown",
   "metadata": {
    "label": "title"
   },
   "source": [
    "# Practical 05 - Collections"
   ]
  },
  {
   "cell_type": "markdown",
   "metadata": {
    "label": "setup"
   },
   "source": [
    "## Setup"
   ]
  },
  {
   "cell_type": "code",
   "execution_count": null,
   "metadata": {
    "cellView": "form",
    "label": "bio"
   },
   "outputs": [],
   "source": [
    "#@markdown **Please enter your following details and press Shift-Enter to save:**\n",
    "your_student_number = '' #@param {type: \"string\"}\n",
    "your_name = '' #@param {type: \"string\"}"
   ]
  },
  {
   "cell_type": "code",
   "execution_count": null,
   "metadata": {
    "label": "setup"
   },
   "outputs": [],
   "source": [
    "# setup magic, do not edit this cell! Just press Shift+Enter or click on arrow at top-left\n",
    "\n",
    "import urllib.request\n",
    "content = urllib.request.urlretrieve (\"https://setu-discretemathematics.github.io/live/files/setup_practical_magic.py\")\n",
    "exec(open(content[0]).read())\n",
    "setup_practical(locals(),_ih)"
   ]
  },
  {
   "cell_type": "markdown",
   "metadata": {
    "label": "Introduction"
   },
   "source": [
    "---\n",
    "## Introduction\n",
    "\n",
    "In this practical we will use Python to work with data collections. We will use the following collections:\n",
    "\n",
    "* Sets  &mdash; unordered collections of distinct (unique) elements\n",
    "* Lists  &mdash; ordered collections of elements (may or may not be distinct)\n",
    "* Tuples &mdash; like lists but immutable (cannot be changed)\n",
    "* Strings &mdash; like a list of characters (but immutable)\n",
    "\n",
    "In typical applications we regularly use multiple collections in combination to solve problems and convert between collections to get the desired functionality. For example, we \n",
    "\n",
    "* convert a `list`/`tuple`` to a `set`` to remove duplicates.\n",
    "* convert a `str` to a `list` to manipulate the characters.\n",
    "* convert a `set` to a `list` to sort the elements.\n",
    "* convert a `list` to a `str` to display the result (use str method `join`). \n",
    "\n",
    "* convert a `tuple` to a `list` to change the elements.\n",
    "* convert a `list` to a `tuple` to make it immutable (and faster to work with).\n",
    "\n",
    "* and on and on ..."
   ]
  },
  {
   "cell_type": "markdown",
   "metadata": {},
   "source": [
    "### Python Concepts\n",
    "\n",
    "* Size of collection: To get the number of elements in a collection we use the `len` function.\n",
    " \n",
    "~~~python\n",
    "    A = {1,5,7, {3,4}}\n",
    "    len(A) # returns 4\n",
    "~~~\n",
    "\n",
    " * To convert from a `set` to a `list` use the `list` function:\n",
    "\n",
    "~~~python\n",
    "    A = {1,5,7, {3,4}}\n",
    "    list(A) # returns [1,5,7, {3,4}]\n",
    "~~~\n",
    "\n",
    "Notice that the `set` is converted to a `list` but the `set` within the `set` is not converted to a `list`!\n",
    "\n",
    "* To convert from a `list` to a `set` use the `set` function:\n",
    "\n",
    "~~~python\n",
    "    A = [1,5,7]\n",
    "    set(A) # returns {1,5,7}   \n",
    "~~~\n",
    "\n",
    "* set/list comprehension: Are a concise way to create `sets`/`lists`. For example, to create a `list` of the squares of numbers from -5 to 5 we can use:\n",
    "\n",
    "~~~python\n",
    "    A = [x**2 for x in range(-5,6)]\n",
    "    print(A) # returns [25, 16, 9, 4, 1, 0, 1, 4, 9, 16, 25]\n",
    "~~~\n",
    "\n",
    "And to create a set of the squares of numbers from -5 to 5 we can use:\n",
    "\n",
    "~~~python\n",
    "    A = {x**2 for x in range(1,11)}\n",
    "    print(A) # returns {0, 1, 4, 9, 16, 25}\n",
    "~~~\n",
    "\n",
    "Or we could have just taken the `list`` and converted it to a set using `set(A)`."
   ]
  },
  {
   "cell_type": "markdown",
   "metadata": {},
   "source": [
    "---\n",
    "## Example Application: Counting the number of unique letters in a text\n",
    "\n",
    "Consider the problem of counting the number of unique letters in a text. For example, consider the sentence\n",
    "\n",
    "    \"The fast brown fox jumps over the lazy dog.\"\n",
    "\n",
    "There are a number of ways to solve this problem. Depending on the text some ways are better (easier to implement / faster / etc) than others. So let's consider a few ways to solve this problem. \n",
    "\n",
    "Generally we will need to:\n",
    "\n",
    "* Convert string to `set` to remove duplicates.\n",
    "* The string has mixed case so convert to lower case\n",
    "  * We have a `str` method `.lower()` for this.\n",
    "* We also need to remove spaces and punctuation.\n",
    "  * We can use the `str` method `.replace()` to remove spaces and punctuation.\n",
    "  * We can use the `str` method `.isalpha()` to check if a character is a letter.\n",
    "\n"
   ]
  },
  {
   "cell_type": "markdown",
   "metadata": {},
   "source": [
    "### Question 1\n",
    "\n",
    "Write code to count the number of distinct letters in the sentence \n",
    "\n",
    "\"The fast brown fox jumps over the lazy dog.\"\n",
    "\n",
    "**Strategy:** convert to lower case, remove spaces and punctuation, and then convert to a set. Finally output size of set."
   ]
  },
  {
   "cell_type": "code",
   "execution_count": null,
   "metadata": {
    "label": "Q1",
    "tags": []
   },
   "outputs": [],
   "source": [
    "# Question 1\n",
    "data = \"The fast brown fox jumps over the lazy dog\"\n"
   ]
  },
  {
   "cell_type": "markdown",
   "metadata": {},
   "source": [
    "### Question 2\n",
    "\n",
    "Write code to count the number of distinct letters in the sentence \n",
    "\n",
    "\"The fast brown (and brave) fox jumps over the lzay [sic] dog, who said 'woff'!\"\n",
    "\n",
    "**Strategy:** This example has lots of punctuation so using `str` method `.replace()` to remove punctuation is not practical. Instead we can use the `str` method `.isalpha()` to check if a character is a letter, and build set using a `set` comprehension.\n"
   ]
  },
  {
   "cell_type": "code",
   "execution_count": null,
   "metadata": {
    "label": "Q2",
    "tags": [
     "Q2"
    ]
   },
   "outputs": [],
   "source": [
    "# Question 2\n",
    "data = \"The fast brown (and brave) fox jumps over the lazy [sic] dog, who said 'woff'!\"\n"
   ]
  },
  {
   "cell_type": "markdown",
   "metadata": {},
   "source": [
    "### Question 3 \n",
    "\n",
    "Write code to count the number of distinct letters in the sentence \n",
    "\n",
    "\"The fast brown (and brave) fox jumps over the lzay [sic] dog, who said 'woff'!\"\n",
    "\n",
    "**Strategy:** Convert to lower case and convert to set as in Q1, but the resulting set then contains punctuation. So before finding the size of this set, get its intersection with the set of lower case letters. Why does this work!"
   ]
  },
  {
   "cell_type": "code",
   "execution_count": null,
   "metadata": {
    "label": "Q3",
    "tags": [
     "Q3"
    ]
   },
   "outputs": [],
   "source": [
    "# Question 3\n",
    "data = \"The fast brown (and brave) fox jumps over the lazy [sic] dog, who said 'woff'!\"\n",
    "\n",
    "from string import ascii_lowercase   # the string 'abcd...xzy' \n",
    "\n"
   ]
  },
  {
   "cell_type": "markdown",
   "metadata": {},
   "source": [
    "---\n",
    "## Determining elements in common in two collections"
   ]
  },
  {
   "cell_type": "markdown",
   "metadata": {},
   "source": [
    "### Question 4\n",
    "\n",
    "Consider the Arithmetic Progression (AP) \n",
    "\n",
    "```python\n",
    "5, 12, 19, 26, 33, 40, 47, 54, 61, 68, ..., <1000\n",
    "```\n",
    "\n",
    "and the Arithmetic Progression (AP)\n",
    "\n",
    "```python\n",
    "7, 18, 29, 40, 51, 62, 73, 84, 95, 106, ..., <1000\n",
    "```\n",
    "\n",
    "Write python code to count the number of elements in common in the two APs."
   ]
  },
  {
   "cell_type": "code",
   "execution_count": null,
   "metadata": {
    "tags": [
     "Q4"
    ]
   },
   "outputs": [],
   "source": [
    "# Question 4"
   ]
  },
  {
   "cell_type": "markdown",
   "metadata": {},
   "source": [
    "### Question 5\n",
    "\n",
    "Consider the Arithmetic Progression (AP) \n",
    "\n",
    "```python\n",
    "5, 12, 19, 26, 33, 40, 47, 54, 61, 68, ..., <1000\n",
    "```\n",
    "\n",
    "and the Arithmetic Progression (AP)\n",
    "\n",
    "```python\n",
    "7, 18, 29, 40, 51, 62, 73, 84, 95, 106, ..., <1000\n",
    "```\n",
    "\n",
    "Write python code to count the number of elements that are in the first AP or in the second but not in both APs."
   ]
  },
  {
   "cell_type": "code",
   "execution_count": null,
   "metadata": {
    "tags": [
     "Q5"
    ]
   },
   "outputs": [],
   "source": [
    "# Question 5\n"
   ]
  },
  {
   "cell_type": "markdown",
   "metadata": {},
   "source": [
    "### Question 6\n",
    "\n",
    "Consider the Geometric Progression (AP) \n",
    "\n",
    "```python\n",
    "3, 6, 12, 24, 48, 96, 192, 384, 768, 1536, ..., <1_000_000\n",
    "```\n",
    "\n",
    "and the Geometric Progression (AP)\n",
    "\n",
    "```python\n",
    "2, 6, 18, 54, 162, 486, 1458, ..., <1_000_000\n",
    "```\n",
    "\n",
    "Write python code to output the number of elements that are in common to both GPs. Why is this result unexpected (hopefully)?"
   ]
  },
  {
   "cell_type": "code",
   "execution_count": null,
   "metadata": {
    "tags": [
     "Q6"
    ]
   },
   "outputs": [],
   "source": [
    "# Question 6"
   ]
  },
  {
   "cell_type": "markdown",
   "metadata": {},
   "source": [
    "---\n",
    "## Optional Questions (Not used when grading)"
   ]
  },
  {
   "cell_type": "markdown",
   "metadata": {},
   "source": [
    "### Question 7\n",
    "\n",
    "Consider the Geometric Progression (GP) \n",
    "\n",
    "\n",
    "```python\n",
    "3, 6, 12, 24, 48, 96, 192, 384, 768, 1536, ..., <1_000_000\n",
    "```\n",
    "\n",
    "None of the terms are multiple of 5, but some are one less than a multiple of 5 (for example 24, 384, ...) and some are one more than multiples of 5 (for example 1536).\n",
    "\n",
    "Write python code to compute:\n",
    "\n",
    "* `count_one_less` = count number of terms that are one less than a multiple of 5.\n",
    "* `count_one_more` = count number of terms that are one more than a multiple of 5.\n",
    "* output the difference\n",
    "\n",
    "```python\n",
    "count_one_less - count_one_more\n",
    "```"
   ]
  },
  {
   "cell_type": "code",
   "execution_count": 1,
   "metadata": {
    "tags": [
     "Q7"
    ]
   },
   "outputs": [],
   "source": [
    "# Question 7\n"
   ]
  },
  {
   "cell_type": "markdown",
   "metadata": {},
   "source": [
    "---\n",
    "## Review/Feedback (P05)"
   ]
  },
  {
   "cell_type": "code",
   "execution_count": null,
   "metadata": {
    "cellView": "form",
    "label": "feedback"
   },
   "outputs": [],
   "source": [
    "#@markdown This a a short questionnaire for you to provide feedback on how you think the semester is progressing and in particular for __Discrete Mathematics__, how easy/difficult, interesting/boring, useful/confusing you find the material. By completing the following you will help us improve our delivery.<br />Please enter your feedback and click on arrow at top-left to save. \n",
    "\n",
    "#@markdown **This practical**\n",
    "\n",
    "#@markdown How difficult did you find this practical?\n",
    "practical_difficulty = 'No opinion' #@param ['No opinion', \"Too easy', 'Easy', 'About right', 'Some bits were hard but overall it was doable', 'Too difficult', 'Impossible']\n",
    "\n",
    "#@markdown Including online session time, how long (in minutes) did it take for you to finish this practical?\n",
    "practical_duration = 0 #@param {type: \"number\"}\n",
    "\n",
    "#@markdown **This week's material**\n",
    "\n",
    "#@markdown How difficult did you find each of the following this week?\n",
    "lecture_difficulty = 'No opinion' #@param ['No opinion', \"Too easy', 'Easy', 'About right', 'Some bits were hard but overall it was doable', 'Too difficult', 'Impossible']\n",
    "\n",
    "tutorial_questions_difficulty = 'No opinion' #@param ['No opinion', \"Too easy', 'Easy', 'About right', 'Some bits were hard but overall it was doable', 'Too difficult', 'Impossible']\n",
    "\n",
    "#@markdown Use the line below to enter any comments &mdash; what you liked, what you did not like. Again all feedback is welcome.\n",
    "general_comment = \"\" #@param {type: \"string\"}"
   ]
  },
  {
   "cell_type": "code",
   "execution_count": null,
   "metadata": {},
   "outputs": [],
   "source": []
  }
 ],
 "metadata": {
  "colab": {
   "collapsed_sections": [],
   "name": "DM_P05_-_Collections.ipynb",
   "provenance": [],
   "toc_visible": true
  },
  "kernelspec": {
   "display_name": "Python 3",
   "language": "python",
   "name": "python3"
  },
  "language_info": {
   "codemirror_mode": {
    "name": "ipython",
    "version": 3
   },
   "file_extension": ".py",
   "mimetype": "text/x-python",
   "name": "python",
   "nbconvert_exporter": "python",
   "pygments_lexer": "ipython3",
   "version": "3.11.5"
  },
  "toc": {
   "toc_cell": false,
   "toc_number_sections": true,
   "toc_threshold": 6,
   "toc_window_display": false
  }
 },
 "nbformat": 4,
 "nbformat_minor": 4
}
